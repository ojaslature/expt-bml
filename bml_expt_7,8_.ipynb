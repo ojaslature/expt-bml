{
  "nbformat": 4,
  "nbformat_minor": 0,
  "metadata": {
    "colab": {
      "provenance": []
    },
    "kernelspec": {
      "name": "python3",
      "display_name": "Python 3"
    },
    "language_info": {
      "name": "python"
    }
  },
  "cells": [
    {
      "cell_type": "code",
      "execution_count": 13,
      "metadata": {
        "id": "9QUkjTHDBchU",
        "colab": {
          "base_uri": "https://localhost:8080/"
        },
        "outputId": "f8b2173a-7ff7-498a-bcaa-091805f282c9"
      },
      "outputs": [
        {
          "output_type": "stream",
          "name": "stdout",
          "text": [
            "Accuracy: 67.53%\n"
          ]
        }
      ],
      "source": [
        "# Importing libraries\n",
        "import pandas as pd  # type: ignore\n",
        "import numpy as np  # type: ignore\n",
        "from sklearn.model_selection import train_test_split\n",
        "from sklearn.neighbors import KNeighborsClassifier\n",
        "from sklearn.metrics import accuracy_score\n",
        "\n",
        "\n",
        "data = pd.read_csv(\"/content/diabetes.csv\")\n",
        "\n",
        "\n",
        "X = data.iloc[:, :-1]\n",
        "y = data.iloc[:, -1]\n",
        "\n",
        "\n",
        "X_train, X_test, y_train, y_test = train_test_split(X, y, test_size=0.2, random_state=42)\n",
        "\n",
        "# Create a KNN classifier\n",
        "knn = KNeighborsClassifier(n_neighbors=1)\n",
        "\n",
        "\n",
        "knn.fit(X_train, y_train)\n",
        "\n",
        "# Make predictions on the test data\n",
        "y_pred = knn.predict(X_test)\n",
        "\n",
        "# Calculate accuracy\n",
        "accuracy = accuracy_score(y_test, y_pred)\n",
        "print(f\"Accuracy: {accuracy * 100:.2f}%\")"
      ]
    },
    {
      "cell_type": "code",
      "source": [
        "# Importing libraries\n",
        "import pandas as pd\n",
        "import numpy as np\n",
        "import matplotlib.pyplot as plt\n",
        "from sklearn.cluster import KMeans\n",
        "from sklearn.preprocessing import StandardScaler\n",
        "from sklearn.decomposition import PCA\n",
        "from sklearn.metrics import silhouette_score, accuracy_score\n",
        "\n",
        "\n",
        "data = pd.read_csv(\"/content/diabetes.csv\")\n",
        "\n",
        "\n",
        "X = data.iloc[:, :-1]\n",
        "y_true = data.iloc[:, -1]\n",
        "\n",
        "\n",
        "scaler = StandardScaler()\n",
        "X_scaled = scaler.fit_transform(X)\n",
        "\n",
        "# Apply K-Means clustering\n",
        "kmeans = KMeans(n_clusters=2, random_state=42)\n",
        "kmeans.fit(X_scaled)\n",
        "\n",
        "\n",
        "labels = kmeans.labels_\n",
        "\n",
        "\n",
        "\n",
        "cluster_0 = y_true[labels == 0]\n",
        "cluster_1 = y_true[labels == 1]\n",
        "\n",
        "\n",
        "label_0 = cluster_0.mode()[0] if not cluster_0.empty else 0\n",
        "label_1 = cluster_1.mode()[0] if not cluster_1.empty else 0\n",
        "\n",
        "# Map cluster labels to true labels\n",
        "mapped_labels = np.where(labels == 0, label_0, label_1)\n",
        "\n",
        "# Calculate accuracy\n",
        "accuracy = accuracy_score(y_true, mapped_labels)\n",
        "print(f\"Accuracy: {accuracy * 100:.2f}%\")\n",
        "\n"
      ],
      "metadata": {
        "colab": {
          "base_uri": "https://localhost:8080/"
        },
        "id": "sK_WzIhXCRm9",
        "outputId": "571a4f0b-daf5-4952-960f-44058d8d8537"
      },
      "execution_count": 19,
      "outputs": [
        {
          "output_type": "stream",
          "name": "stdout",
          "text": [
            "Accuracy: 66.15%\n"
          ]
        }
      ]
    }
  ]
}